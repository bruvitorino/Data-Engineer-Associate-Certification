{
  "nbformat": 4,
  "nbformat_minor": 0,
  "metadata": {
    "colab": {
      "provenance": []
    },
    "kernelspec": {
      "name": "python3",
      "display_name": "Python 3"
    },
    "language_info": {
      "name": "python"
    }
  },
  "cells": [
    {
      "cell_type": "code",
      "execution_count": null,
      "metadata": {
        "id": "Nb586UY40eUt"
      },
      "outputs": [],
      "source": [
        "import pandas as pd"
      ]
    },
    {
      "cell_type": "code",
      "source": [
        "#carregando o csv\n",
        "df = pd.read_csv(\"EVENTS.csv\")"
      ],
      "metadata": {
        "id": "IULW4_bH0jud"
      },
      "execution_count": null,
      "outputs": []
    },
    {
      "cell_type": "code",
      "source": [
        "#verificando valores nulos na coluna game_id\n",
        "print(df['game_id'].isnull().sum()) # apenas para confirmar"
      ],
      "metadata": {
        "colab": {
          "base_uri": "https://localhost:8080/"
        },
        "id": "zahKMJ5y079i",
        "outputId": "854da4da-2f15-430b-955b-90636a9a595a"
      },
      "execution_count": null,
      "outputs": [
        {
          "output_type": "stream",
          "name": "stdout",
          "text": [
            "343\n"
          ]
        }
      ]
    },
    {
      "cell_type": "code",
      "source": [
        "#substituindo valores nulos ou vazios por -1\n",
        "df['game_id'] = df['game_id'].fillna(-1)"
      ],
      "metadata": {
        "id": "x2VSTZn71Ty9"
      },
      "execution_count": null,
      "outputs": []
    },
    {
      "cell_type": "code",
      "source": [
        "#salvando novo CSV pronto pra importar\n",
        "df.to_csv(\"events_clean.csv\", index=False)"
      ],
      "metadata": {
        "id": "0TGUBPvY1jVl"
      },
      "execution_count": null,
      "outputs": []
    },
    {
      "cell_type": "code",
      "source": [
        "df = pd.read_csv(\"events_clean.csv\")\n",
        "print(df)"
      ],
      "metadata": {
        "colab": {
          "base_uri": "https://localhost:8080/"
        },
        "id": "inI3EP7-2g1Z",
        "outputId": "ae021c79-d01f-44b2-f078-fa90021e9108"
      },
      "execution_count": null,
      "outputs": [
        {
          "output_type": "stream",
          "name": "stdout",
          "text": [
            "      index  event_id  game_id  device_id  user_id               event_time\n",
            "0         0         1      3.0          4       73  2021-06-11T02:07:04.000\n",
            "1         1         2      3.0          5      141  2023-05-28T16:15:07.000\n",
            "2         2         3      4.0          1       70  2023-08-31T13:28:50.000\n",
            "3         3         4     -1.0          2      262  2020-06-18T17:50:41.000\n",
            "4         4         5      1.0          2      340  2021-01-21T06:34:48.000\n",
            "...     ...       ...      ...        ...      ...                      ...\n",
            "1495   1495      1496      4.0          1      225  2022-12-17T22:48:18.000\n",
            "1496   1496      1497      1.0          2      333  2022-04-19T03:50:09.000\n",
            "1497   1497      1498      1.0          3       42  2021-10-13T02:10:40.000\n",
            "1498   1498      1499      1.0          1      303  2022-07-01T09:38:06.000\n",
            "1499   1499      1500      2.0          5      246  2023-02-27T01:47:40.000\n",
            "\n",
            "[1500 rows x 6 columns]\n"
          ]
        }
      ]
    },
    {
      "cell_type": "code",
      "source": [
        "df['game_id'] = df['game_id'].astype(float).astype(int)\n"
      ],
      "metadata": {
        "id": "_Bjl7ZoL3L8I"
      },
      "execution_count": null,
      "outputs": []
    },
    {
      "cell_type": "code",
      "source": [
        "df.to_csv(\"events_clean.csv\", index=False)\n"
      ],
      "metadata": {
        "id": "NIYWNdRF3OH8"
      },
      "execution_count": null,
      "outputs": []
    },
    {
      "cell_type": "code",
      "source": [
        "print(df['game_id'].unique())  # todos os valores devem aparecer como inteiros\n",
        "print(df.dtypes)  # game_id deve estar como int64\n"
      ],
      "metadata": {
        "colab": {
          "base_uri": "https://localhost:8080/"
        },
        "id": "51TqvVOa3Ssu",
        "outputId": "dbadca8b-9b03-4e77-fb08-3122597a8899"
      },
      "execution_count": null,
      "outputs": [
        {
          "output_type": "stream",
          "name": "stdout",
          "text": [
            "[ 3  4 -1  1  2]\n",
            "index          int64\n",
            "event_id       int64\n",
            "game_id        int64\n",
            "device_id      int64\n",
            "user_id        int64\n",
            "event_time    object\n",
            "dtype: object\n"
          ]
        }
      ]
    },
    {
      "cell_type": "code",
      "source": [
        "df = pd.read_csv(\"events_clean.csv\")\n",
        "print(df)"
      ],
      "metadata": {
        "colab": {
          "base_uri": "https://localhost:8080/"
        },
        "id": "OroHgRUs54u8",
        "outputId": "02857159-a3ed-4abd-ad66-f8fbb74af4a8"
      },
      "execution_count": null,
      "outputs": [
        {
          "output_type": "stream",
          "name": "stdout",
          "text": [
            "      index  event_id  game_id  device_id  user_id               event_time\n",
            "0         0         1        3          4       73  2021-06-11T02:07:04.000\n",
            "1         1         2        3          5      141  2023-05-28T16:15:07.000\n",
            "2         2         3        4          1       70  2023-08-31T13:28:50.000\n",
            "3         3         4       -1          2      262  2020-06-18T17:50:41.000\n",
            "4         4         5        1          2      340  2021-01-21T06:34:48.000\n",
            "...     ...       ...      ...        ...      ...                      ...\n",
            "1495   1495      1496        4          1      225  2022-12-17T22:48:18.000\n",
            "1496   1496      1497        1          2      333  2022-04-19T03:50:09.000\n",
            "1497   1497      1498        1          3       42  2021-10-13T02:10:40.000\n",
            "1498   1498      1499        1          1      303  2022-07-01T09:38:06.000\n",
            "1499   1499      1500        2          5      246  2023-02-27T01:47:40.000\n",
            "\n",
            "[1500 rows x 6 columns]\n"
          ]
        }
      ]
    },
    {
      "cell_type": "code",
      "source": [
        "df.to_csv(\"events_clean.csv\", index=False)\n"
      ],
      "metadata": {
        "id": "IeRhz6Vg6Drv"
      },
      "execution_count": null,
      "outputs": []
    },
    {
      "cell_type": "code",
      "source": [
        "import pandas as pd\n",
        "\n",
        "# Carregar o CSV original\n",
        "games_df = pd.read_csv(\"GAMES.csv\")"
      ],
      "metadata": {
        "id": "hlYHdNtN7FzL"
      },
      "execution_count": null,
      "outputs": []
    },
    {
      "cell_type": "code",
      "source": [
        "# Criar o novo registro com game_id = -1\n",
        "game_clean = pd.DataFrame([{\n",
        "    \"index\": 999,  # ou o próximo número disponível\n",
        "    \"game_id\": -1,\n",
        "    \"game_type\": \"unknown\"\n",
        "}])"
      ],
      "metadata": {
        "id": "s0K-B4m_8u1G"
      },
      "execution_count": null,
      "outputs": []
    },
    {
      "cell_type": "code",
      "source": [
        "# Adicionar ao DataFrame original\n",
        "games_df = pd.concat([games_df, game_clean], ignore_index=True)"
      ],
      "metadata": {
        "id": "BhH7TfOl8wzH"
      },
      "execution_count": null,
      "outputs": []
    },
    {
      "cell_type": "code",
      "source": [
        "# Salvar como novo arquivo\n",
        "games_df.to_csv(\"games_clean.csv\", index=False)"
      ],
      "metadata": {
        "id": "a6Hm7tPL8z_c"
      },
      "execution_count": null,
      "outputs": []
    },
    {
      "cell_type": "code",
      "source": [
        "print(games_df)"
      ],
      "metadata": {
        "colab": {
          "base_uri": "https://localhost:8080/"
        },
        "id": "LKvQkLBt9Py5",
        "outputId": "3e580854-199b-4d67-eaa1-9ecbd7bedce6"
      },
      "execution_count": null,
      "outputs": [
        {
          "output_type": "stream",
          "name": "stdout",
          "text": [
            "   index  game_id game_type\n",
            "0      0        1    biking\n",
            "1      1        2    rowing\n",
            "2      2        3   dancing\n",
            "3      3        4   running\n",
            "4    999       -1   unknown\n"
          ]
        }
      ]
    },
    {
      "cell_type": "code",
      "source": [
        "print(games_df['game_id'].value_counts())\n"
      ],
      "metadata": {
        "colab": {
          "base_uri": "https://localhost:8080/"
        },
        "id": "Ej6fQLvB95rX",
        "outputId": "4761f6bc-2ef5-4c52-da1b-6a4900eada1e"
      },
      "execution_count": null,
      "outputs": [
        {
          "output_type": "stream",
          "name": "stdout",
          "text": [
            "game_id\n",
            " 1    1\n",
            " 2    1\n",
            " 3    1\n",
            " 4    1\n",
            "-1    1\n",
            "Name: count, dtype: int64\n"
          ]
        }
      ]
    }
  ]
}